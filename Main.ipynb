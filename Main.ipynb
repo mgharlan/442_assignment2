{
 "cells": [
  {
   "cell_type": "code",
   "execution_count": 1,
   "id": "a48982c8",
   "metadata": {},
   "outputs": [],
   "source": [
    "import shutil\n",
    "from pyspark.ml.regression import LinearRegression\n",
    "from pyspark.ml.feature import VectorAssembler\n",
    "from pyspark.sql.types import DoubleType\n",
    "from pyspark.ml.evaluation import RegressionEvaluator\n",
    "from pyspark.ml.regression import RandomForestRegressor\n",
    "from pyspark.mllib.regression import LabeledPoint\n",
    "from pyspark.mllib.evaluation import RegressionMetrics\n",
    "from pyspark.ml.classification import RandomForestClassifier\n",
    "from pyspark.ml.evaluation import MulticlassClassificationEvaluator"
   ]
  },
  {
   "cell_type": "code",
   "execution_count": 2,
   "id": "79479072",
   "metadata": {},
   "outputs": [],
   "source": [
    "data = spark.read.format(\"csv\").option(\"header\", \"true\").option(\"delimiter\",\";\").load(\"winequality-white.csv\")"
   ]
  },
  {
   "cell_type": "code",
   "execution_count": 3,
   "id": "f4b48f21",
   "metadata": {},
   "outputs": [
    {
     "data": {
      "text/plain": [
       "4898"
      ]
     },
     "execution_count": 3,
     "metadata": {},
     "output_type": "execute_result"
    }
   ],
   "source": [
    "data.count()"
   ]
  },
  {
   "cell_type": "code",
   "execution_count": 4,
   "id": "99401cfa",
   "metadata": {},
   "outputs": [
    {
     "name": "stdout",
     "output_type": "stream",
     "text": [
      "root\n",
      " |-- fixed acidity: double (nullable = true)\n",
      " |-- volatile acidity: double (nullable = true)\n",
      " |-- citric acid: double (nullable = true)\n",
      " |-- residual sugar: double (nullable = true)\n",
      " |-- chlorides: double (nullable = true)\n",
      " |-- free sulfur dioxide: double (nullable = true)\n",
      " |-- total sulfur dioxide: double (nullable = true)\n",
      " |-- density: double (nullable = true)\n",
      " |-- pH: double (nullable = true)\n",
      " |-- sulphates: double (nullable = true)\n",
      " |-- alcohol: double (nullable = true)\n",
      " |-- quality: double (nullable = true)\n",
      "\n"
     ]
    },
    {
     "data": {
      "text/plain": [
       "['fixed acidity',\n",
       " 'volatile acidity',\n",
       " 'citric acid',\n",
       " 'residual sugar',\n",
       " 'chlorides',\n",
       " 'free sulfur dioxide',\n",
       " 'total sulfur dioxide',\n",
       " 'density',\n",
       " 'pH',\n",
       " 'sulphates',\n",
       " 'alcohol',\n",
       " 'quality']"
      ]
     },
     "execution_count": 4,
     "metadata": {},
     "output_type": "execute_result"
    }
   ],
   "source": [
    "for i in data.columns:\n",
    "    data=data.withColumn(i,data[i].cast(DoubleType()))\n",
    "data.printSchema()\n",
    "data.columns"
   ]
  },
  {
   "cell_type": "code",
   "execution_count": 5,
   "id": "8fd745b5",
   "metadata": {},
   "outputs": [
    {
     "name": "stdout",
     "output_type": "stream",
     "text": [
      "Row(max(fixed acidity)=14.2)\n",
      "Row(max(volatile acidity)=1.1)\n",
      "Row(max(citric acid)=1.66)\n",
      "Row(max(residual sugar)=65.8)\n",
      "Row(max(chlorides)=0.346)\n",
      "Row(max(free sulfur dioxide)=289.0)\n",
      "Row(max(total sulfur dioxide)=440.0)\n",
      "Row(max(density)=1.03898)\n",
      "Row(max(pH)=3.82)\n",
      "Row(max(sulphates)=1.08)\n",
      "Row(max(alcohol)=14.2)\n",
      "Row(max(quality)=9.0)\n"
     ]
    }
   ],
   "source": [
    "for i in data.columns:\n",
    "    print(data.agg({i: \"max\"}).collect()[0])"
   ]
  },
  {
   "cell_type": "code",
   "execution_count": 6,
   "id": "1b75bc23",
   "metadata": {},
   "outputs": [
    {
     "name": "stdout",
     "output_type": "stream",
     "text": [
      "+--------------------+-------+\n",
      "|            features|quality|\n",
      "+--------------------+-------+\n",
      "|[7.0,0.27,0.36,20...|    6.0|\n",
      "|[6.3,0.3,0.34,1.6...|    6.0|\n",
      "|[8.1,0.28,0.4,6.9...|    6.0|\n",
      "+--------------------+-------+\n",
      "only showing top 3 rows\n",
      "\n"
     ]
    }
   ],
   "source": [
    "vectorAssembler = VectorAssembler(inputCols = ['fixed acidity','volatile acidity','citric acid','residual sugar','chlorides','free sulfur dioxide','total sulfur dioxide','density','pH','sulphates','alcohol'], outputCol = 'features')\n",
    "vdata = vectorAssembler.transform(data)\n",
    "vdata = vdata.select(['features', 'quality'])\n",
    "vdata.show(3)"
   ]
  },
  {
   "cell_type": "code",
   "execution_count": 7,
   "id": "d5b52f5b",
   "metadata": {},
   "outputs": [
    {
     "name": "stdout",
     "output_type": "stream",
     "text": [
      "+--------------------+-------+--------------------+\n",
      "|            features|quality|     scaled_features|\n",
      "+--------------------+-------+--------------------+\n",
      "|[7.0,0.27,0.36,20...|    6.0|[8.29513396799212...|\n",
      "|[6.3,0.3,0.34,1.6...|    6.0|[7.46562057119291...|\n",
      "|[8.1,0.28,0.4,6.9...|    6.0|[9.59865502010517...|\n",
      "|[7.2,0.23,0.32,8....|    6.0|[8.53213779564904...|\n",
      "|[7.2,0.23,0.32,8....|    6.0|[8.53213779564904...|\n",
      "|[8.1,0.28,0.4,6.9...|    6.0|[9.59865502010517...|\n",
      "|[6.2,0.32,0.16,7....|    6.0|[7.34711865736445...|\n",
      "|[7.0,0.27,0.36,20...|    6.0|[8.29513396799212...|\n",
      "|[6.3,0.3,0.34,1.6...|    6.0|[7.46562057119291...|\n",
      "|[8.1,0.22,0.43,1....|    6.0|[9.59865502010517...|\n",
      "|[8.1,0.27,0.41,1....|    5.0|[9.59865502010517...|\n",
      "|[8.6,0.23,0.4,4.2...|    5.0|[10.1911645892474...|\n",
      "|[7.9,0.18,0.37,1....|    5.0|[9.36165119244825...|\n",
      "|[6.6,0.16,0.4,1.5...|    7.0|[7.82112631267828...|\n",
      "|[8.3,0.42,0.62,19...|    5.0|[9.83565884776209...|\n",
      "|[6.6,0.17,0.38,1....|    7.0|[7.82112631267828...|\n",
      "|[6.3,0.48,0.04,1....|    6.0|[7.46562057119291...|\n",
      "|[6.2,0.66,0.48,1....|    8.0|[7.34711865736445...|\n",
      "|[7.4,0.34,0.42,1....|    6.0|[8.76914162330596...|\n",
      "|[6.5,0.31,0.14,7....|    5.0|[7.70262439884983...|\n",
      "+--------------------+-------+--------------------+\n",
      "only showing top 20 rows\n",
      "\n"
     ]
    }
   ],
   "source": [
    "from pyspark.ml.feature import StandardScaler\n",
    "scaler = StandardScaler(inputCol=\"features\", outputCol=\"scaled_features\")\n",
    "vdata = scaler.fit(vdata).transform(vdata)\n",
    "vdata.show()"
   ]
  },
  {
   "cell_type": "code",
   "execution_count": 8,
   "id": "333aeb3c",
   "metadata": {},
   "outputs": [],
   "source": [
    "splits = vdata.randomSplit([0.80, 0.20])"
   ]
  },
  {
   "cell_type": "code",
   "execution_count": 9,
   "id": "63081c8f",
   "metadata": {},
   "outputs": [
    {
     "data": {
      "text/plain": [
       "3912"
      ]
     },
     "execution_count": 9,
     "metadata": {},
     "output_type": "execute_result"
    }
   ],
   "source": [
    "splits[0].count()"
   ]
  },
  {
   "cell_type": "code",
   "execution_count": 10,
   "id": "4a489613",
   "metadata": {},
   "outputs": [
    {
     "data": {
      "text/plain": [
       "986"
      ]
     },
     "execution_count": 10,
     "metadata": {},
     "output_type": "execute_result"
    }
   ],
   "source": [
    "splits[1].count()"
   ]
  },
  {
   "cell_type": "code",
   "execution_count": 11,
   "id": "a8150635",
   "metadata": {},
   "outputs": [],
   "source": [
    "training = splits[0]"
   ]
  },
  {
   "cell_type": "code",
   "execution_count": 12,
   "id": "d6925704",
   "metadata": {},
   "outputs": [],
   "source": [
    "testing = splits[1]"
   ]
  },
  {
   "cell_type": "code",
   "execution_count": 13,
   "id": "e233dd66",
   "metadata": {},
   "outputs": [],
   "source": [
    "#LinearRegression"
   ]
  },
  {
   "cell_type": "code",
   "execution_count": 14,
   "id": "af85231d",
   "metadata": {},
   "outputs": [],
   "source": [
    "lr = LinearRegression(featuresCol = 'scaled_features', labelCol='quality', maxIter=10, regParam=0.3, elasticNetParam=0.8)"
   ]
  },
  {
   "cell_type": "code",
   "execution_count": 15,
   "id": "3b21dfb8",
   "metadata": {},
   "outputs": [],
   "source": [
    "lrModel = lr.fit(training)"
   ]
  },
  {
   "cell_type": "code",
   "execution_count": 16,
   "id": "ca8d2cf0",
   "metadata": {},
   "outputs": [
    {
     "name": "stdout",
     "output_type": "stream",
     "text": [
      "RMSE: 0.840458\n",
      "r2: 0.102342\n"
     ]
    }
   ],
   "source": [
    "trainingSummary = lrModel.summary\n",
    "print(\"RMSE: %f\" % trainingSummary.rootMeanSquaredError)\n",
    "print(\"r2: %f\" % trainingSummary.r2)"
   ]
  },
  {
   "cell_type": "code",
   "execution_count": 17,
   "id": "95324829",
   "metadata": {},
   "outputs": [
    {
     "name": "stdout",
     "output_type": "stream",
     "text": [
      "+------------------+-------+--------------------+\n",
      "|        prediction|quality|            features|\n",
      "+------------------+-------+--------------------+\n",
      "| 6.112844959122063|    8.0|[3.9,0.225,0.4,4....|\n",
      "| 6.029190948969397|    7.0|[4.2,0.17,0.36,1....|\n",
      "| 5.610920898206071|    3.0|[4.2,0.215,0.23,5...|\n",
      "| 5.610920898206071|    5.0|[4.5,0.19,0.21,0....|\n",
      "|5.9559936900858155|    6.0|[4.7,0.145,0.29,1...|\n",
      "+------------------+-------+--------------------+\n",
      "only showing top 5 rows\n",
      "\n"
     ]
    }
   ],
   "source": [
    "lrPredictions = lrModel.transform(testing)\n",
    "lrPredictions.select(\"prediction\",\"quality\",\"features\").show(5)"
   ]
  },
  {
   "cell_type": "code",
   "execution_count": 18,
   "id": "832a2626",
   "metadata": {},
   "outputs": [
    {
     "name": "stdout",
     "output_type": "stream",
     "text": [
      "Root Mean Squared Error (RMSE) on test data = 0.82596\n"
     ]
    }
   ],
   "source": [
    "test_result = lrModel.evaluate(testing)\n",
    "print(\"Root Mean Squared Error (RMSE) on test data = %g\" % test_result.rootMeanSquaredError)"
   ]
  },
  {
   "cell_type": "code",
   "execution_count": 19,
   "id": "c3ce39a2",
   "metadata": {},
   "outputs": [],
   "source": [
    "try:\n",
    "    shutil.rmtree(\"lrModel\")\n",
    "except FileNotFoundError as e:\n",
    "    pass\n",
    "lrModel.save(\"lrModel\")"
   ]
  },
  {
   "cell_type": "code",
   "execution_count": 20,
   "id": "0b58377a",
   "metadata": {},
   "outputs": [],
   "source": [
    "loadedModel = lrModel.load(\"lrModel\");"
   ]
  },
  {
   "cell_type": "code",
   "execution_count": 21,
   "id": "b8b3766b",
   "metadata": {},
   "outputs": [
    {
     "data": {
      "text/plain": [
       "0.8259595588313764"
      ]
     },
     "execution_count": 21,
     "metadata": {},
     "output_type": "execute_result"
    }
   ],
   "source": [
    "test_result = loadedModel.evaluate(testing)\n",
    "test_result.rootMeanSquaredError"
   ]
  },
  {
   "cell_type": "code",
   "execution_count": 22,
   "id": "2257d2e0",
   "metadata": {},
   "outputs": [
    {
     "name": "stdout",
     "output_type": "stream",
     "text": [
      "+------------------+-------+\n",
      "|        prediction|quality|\n",
      "+------------------+-------+\n",
      "| 6.112844959122063|    8.0|\n",
      "| 6.029190948969397|    7.0|\n",
      "| 5.610920898206071|    3.0|\n",
      "| 5.610920898206071|    5.0|\n",
      "|5.9559936900858155|    6.0|\n",
      "+------------------+-------+\n",
      "only showing top 5 rows\n",
      "\n"
     ]
    }
   ],
   "source": [
    "lrPredictions = loadedModel.transform(testing)\n",
    "lrPredictions.select(\"prediction\",\"quality\").show(5)"
   ]
  },
  {
   "cell_type": "code",
   "execution_count": 23,
   "id": "e71b5211",
   "metadata": {},
   "outputs": [],
   "source": [
    "try:\n",
    "    shutil.rmtree(\"lrPredictions\")\n",
    "except FileNotFoundError as e:\n",
    "    pass\n",
    "lrPredictions.select(\"prediction\",\"quality\").write.csv(\"lrPredictions\")"
   ]
  },
  {
   "cell_type": "code",
   "execution_count": 24,
   "id": "5a953cb0",
   "metadata": {},
   "outputs": [],
   "source": [
    "#RandomForestRegressor:"
   ]
  },
  {
   "cell_type": "code",
   "execution_count": 25,
   "id": "c29693df",
   "metadata": {},
   "outputs": [],
   "source": [
    "rf = RandomForestRegressor(labelCol='quality', featuresCol='scaled_features', numTrees=2, maxDepth=1, seed=42)\n",
    "rfModel = rf.fit(training)"
   ]
  },
  {
   "cell_type": "code",
   "execution_count": 26,
   "id": "9d3d189b",
   "metadata": {},
   "outputs": [
    {
     "name": "stdout",
     "output_type": "stream",
     "text": [
      "+-----------------+-------+\n",
      "|       prediction|quality|\n",
      "+-----------------+-------+\n",
      "|5.961103834527265|    8.0|\n",
      "|5.961103834527265|    7.0|\n",
      "|5.961103834527265|    3.0|\n",
      "|5.961103834527265|    5.0|\n",
      "|5.961103834527265|    6.0|\n",
      "+-----------------+-------+\n",
      "only showing top 5 rows\n",
      "\n"
     ]
    }
   ],
   "source": [
    "rfPredictions = rfModel.transform(testing)\n",
    "rfPredictions.select(\"prediction\",\"quality\").show(5)"
   ]
  },
  {
   "cell_type": "code",
   "execution_count": 27,
   "id": "355321c4",
   "metadata": {},
   "outputs": [
    {
     "name": "stderr",
     "output_type": "stream",
     "text": [
      "/opt/spark/python/pyspark/sql/context.py:127: FutureWarning: Deprecated in 3.0.0. Use SparkSession.builder.getOrCreate() instead.\n",
      "  FutureWarning\n"
     ]
    },
    {
     "data": {
      "text/plain": [
       "0.7489070257902107"
      ]
     },
     "execution_count": 27,
     "metadata": {},
     "output_type": "execute_result"
    }
   ],
   "source": [
    "valuesAndPreds = rfPredictions.select(\"prediction\",\"quality\").rdd\n",
    "metrics = RegressionMetrics(valuesAndPreds)\n",
    "metrics.meanSquaredError"
   ]
  },
  {
   "cell_type": "code",
   "execution_count": 28,
   "id": "4126f629",
   "metadata": {},
   "outputs": [],
   "source": [
    "try:\n",
    "    shutil.rmtree(\"rfModel\")\n",
    "except FileNotFoundError as e:\n",
    "    pass\n",
    "rfModel.save(\"rfModel\")"
   ]
  },
  {
   "cell_type": "code",
   "execution_count": 29,
   "id": "eab2f092",
   "metadata": {},
   "outputs": [],
   "source": [
    "loadedModel = rfModel.load(\"rfModel\");"
   ]
  },
  {
   "cell_type": "code",
   "execution_count": 30,
   "id": "8e769666",
   "metadata": {},
   "outputs": [
    {
     "name": "stdout",
     "output_type": "stream",
     "text": [
      "+-----------------+-------+\n",
      "|       prediction|quality|\n",
      "+-----------------+-------+\n",
      "|5.961103834527265|    8.0|\n",
      "|5.961103834527265|    7.0|\n",
      "|5.961103834527265|    3.0|\n",
      "|5.961103834527265|    5.0|\n",
      "|5.961103834527265|    6.0|\n",
      "+-----------------+-------+\n",
      "only showing top 5 rows\n",
      "\n"
     ]
    }
   ],
   "source": [
    "rfPredictions = loadedModel.transform(testing)\n",
    "rfPredictions.select(\"prediction\",\"quality\").show(5)"
   ]
  },
  {
   "cell_type": "code",
   "execution_count": 31,
   "id": "92215b9f",
   "metadata": {},
   "outputs": [
    {
     "data": {
      "text/plain": [
       "0.7489070257902107"
      ]
     },
     "execution_count": 31,
     "metadata": {},
     "output_type": "execute_result"
    }
   ],
   "source": [
    "valuesAndPreds = rfPredictions.select(\"prediction\",\"quality\").rdd\n",
    "metrics = RegressionMetrics(valuesAndPreds)\n",
    "metrics.meanSquaredError"
   ]
  },
  {
   "cell_type": "code",
   "execution_count": 32,
   "id": "7d2754d4",
   "metadata": {},
   "outputs": [],
   "source": [
    "try:\n",
    "    shutil.rmtree(\"rfPredictions\")\n",
    "except FileNotFoundError as e:\n",
    "    pass\n",
    "rfPredictions.select(\"prediction\",\"quality\").write.csv(\"rfPredictions\")"
   ]
  },
  {
   "cell_type": "code",
   "execution_count": 33,
   "id": "b728812c",
   "metadata": {},
   "outputs": [],
   "source": [
    "#RandomForestClassifier:"
   ]
  },
  {
   "cell_type": "code",
   "execution_count": 34,
   "id": "19a4814d",
   "metadata": {},
   "outputs": [
    {
     "name": "stdout",
     "output_type": "stream",
     "text": [
      "+--------------------+-------+--------------------+\n",
      "|            features|quality|     scaled_features|\n",
      "+--------------------+-------+--------------------+\n",
      "|[7.0,0.27,0.36,20...|    6.0|[8.29513396799212...|\n",
      "|[6.3,0.3,0.34,1.6...|    6.0|[7.46562057119291...|\n",
      "|[8.1,0.28,0.4,6.9...|    6.0|[9.59865502010517...|\n",
      "|[7.2,0.23,0.32,8....|    6.0|[8.53213779564904...|\n",
      "|[7.2,0.23,0.32,8....|    6.0|[8.53213779564904...|\n",
      "|[8.1,0.28,0.4,6.9...|    6.0|[9.59865502010517...|\n",
      "|[6.2,0.32,0.16,7....|    6.0|[7.34711865736445...|\n",
      "|[7.0,0.27,0.36,20...|    6.0|[8.29513396799212...|\n",
      "|[6.3,0.3,0.34,1.6...|    6.0|[7.46562057119291...|\n",
      "|[8.1,0.22,0.43,1....|    6.0|[9.59865502010517...|\n",
      "|[8.1,0.27,0.41,1....|    5.0|[9.59865502010517...|\n",
      "|[8.6,0.23,0.4,4.2...|    5.0|[10.1911645892474...|\n",
      "|[7.9,0.18,0.37,1....|    5.0|[9.36165119244825...|\n",
      "|[6.6,0.16,0.4,1.5...|    7.0|[7.82112631267828...|\n",
      "|[8.3,0.42,0.62,19...|    5.0|[9.83565884776209...|\n",
      "|[6.6,0.17,0.38,1....|    7.0|[7.82112631267828...|\n",
      "|[6.3,0.48,0.04,1....|    6.0|[7.46562057119291...|\n",
      "|[6.2,0.66,0.48,1....|    8.0|[7.34711865736445...|\n",
      "|[7.4,0.34,0.42,1....|    6.0|[8.76914162330596...|\n",
      "|[6.5,0.31,0.14,7....|    5.0|[7.70262439884983...|\n",
      "+--------------------+-------+--------------------+\n",
      "only showing top 20 rows\n",
      "\n"
     ]
    }
   ],
   "source": [
    "vdata.show()"
   ]
  },
  {
   "cell_type": "code",
   "execution_count": 35,
   "id": "d794e9ec",
   "metadata": {},
   "outputs": [],
   "source": [
    "rfc = RandomForestClassifier(labelCol='quality', featuresCol='features', numTrees=9, maxDepth=20, seed=55)\n",
    "rfcModel = rfc.fit(training)"
   ]
  },
  {
   "cell_type": "code",
   "execution_count": 36,
   "id": "88e478bd",
   "metadata": {},
   "outputs": [
    {
     "name": "stdout",
     "output_type": "stream",
     "text": [
      "+----------+-------+\n",
      "|prediction|quality|\n",
      "+----------+-------+\n",
      "|       7.0|    8.0|\n",
      "|       7.0|    7.0|\n",
      "|       5.0|    3.0|\n",
      "|       6.0|    5.0|\n",
      "|       6.0|    6.0|\n",
      "+----------+-------+\n",
      "only showing top 5 rows\n",
      "\n"
     ]
    }
   ],
   "source": [
    "rfcPredictions = rfcModel.transform(testing)\n",
    "rfcPredictions.select(\"prediction\",\"quality\").show(5)"
   ]
  },
  {
   "cell_type": "code",
   "execution_count": 37,
   "id": "fd7fd9f1",
   "metadata": {},
   "outputs": [
    {
     "data": {
      "text/plain": [
       "0.6529545234724055"
      ]
     },
     "execution_count": 37,
     "metadata": {},
     "output_type": "execute_result"
    }
   ],
   "source": [
    "evaluator = MulticlassClassificationEvaluator(labelCol=\"quality\", predictionCol=\"prediction\", metricName='f1')\n",
    "f1 = evaluator.evaluate(rfcPredictions)\n",
    "f1"
   ]
  },
  {
   "cell_type": "code",
   "execution_count": 38,
   "id": "bd4fa277",
   "metadata": {},
   "outputs": [],
   "source": [
    "try:\n",
    "    shutil.rmtree(\"rfcModel\")\n",
    "except FileNotFoundError as e:\n",
    "    pass\n",
    "rfcModel.save(\"rfcModel\")"
   ]
  },
  {
   "cell_type": "code",
   "execution_count": 39,
   "id": "5c9d60ad",
   "metadata": {},
   "outputs": [],
   "source": [
    "loadedModel = rfcModel.load(\"rfcModel\");"
   ]
  },
  {
   "cell_type": "code",
   "execution_count": 40,
   "id": "752c95e1",
   "metadata": {},
   "outputs": [
    {
     "name": "stdout",
     "output_type": "stream",
     "text": [
      "+----------+-------+\n",
      "|prediction|quality|\n",
      "+----------+-------+\n",
      "|       7.0|    8.0|\n",
      "|       7.0|    7.0|\n",
      "|       5.0|    3.0|\n",
      "|       6.0|    5.0|\n",
      "|       6.0|    6.0|\n",
      "+----------+-------+\n",
      "only showing top 5 rows\n",
      "\n"
     ]
    }
   ],
   "source": [
    "rfcPredictions = loadedModel.transform(testing)\n",
    "rfcPredictions.select(\"prediction\",\"quality\").show(5)"
   ]
  },
  {
   "cell_type": "code",
   "execution_count": 41,
   "id": "e50c91d5",
   "metadata": {},
   "outputs": [
    {
     "data": {
      "text/plain": [
       "0.6529545234724055"
      ]
     },
     "execution_count": 41,
     "metadata": {},
     "output_type": "execute_result"
    }
   ],
   "source": [
    "evaluator = MulticlassClassificationEvaluator(labelCol=\"quality\", predictionCol=\"prediction\", metricName='f1')\n",
    "f1 = evaluator.evaluate(rfcPredictions)\n",
    "f1"
   ]
  },
  {
   "cell_type": "code",
   "execution_count": 42,
   "id": "b1912e45",
   "metadata": {},
   "outputs": [
    {
     "data": {
      "text/plain": [
       "0.6657443982019989"
      ]
     },
     "execution_count": 42,
     "metadata": {},
     "output_type": "execute_result"
    }
   ],
   "source": [
    "evaluator = MulticlassClassificationEvaluator(labelCol=\"quality\", predictionCol=\"prediction\", metricName='weightedPrecision')\n",
    "precision = evaluator.evaluate(rfcPredictions)\n",
    "precision"
   ]
  },
  {
   "cell_type": "code",
   "execution_count": 43,
   "id": "eaf6b114",
   "metadata": {},
   "outputs": [
    {
     "data": {
      "text/plain": [
       "0.6612576064908722"
      ]
     },
     "execution_count": 43,
     "metadata": {},
     "output_type": "execute_result"
    }
   ],
   "source": [
    "evaluator = MulticlassClassificationEvaluator(labelCol=\"quality\", predictionCol=\"prediction\", metricName='weightedRecall')\n",
    "recall = evaluator.evaluate(rfcPredictions)\n",
    "recall"
   ]
  },
  {
   "cell_type": "code",
   "execution_count": 44,
   "id": "349de286",
   "metadata": {},
   "outputs": [],
   "source": [
    "try:\n",
    "    shutil.rmtree(\"rfcPredictions\")\n",
    "except FileNotFoundError as e:\n",
    "    pass\n",
    "rfPredictions.select(\"prediction\",\"quality\").write.csv(\"rfcPredictions\")"
   ]
  },
  {
   "cell_type": "code",
   "execution_count": null,
   "id": "1acff44c",
   "metadata": {},
   "outputs": [],
   "source": []
  }
 ],
 "metadata": {
  "kernelspec": {
   "display_name": "Python 3",
   "language": "python",
   "name": "python3"
  },
  "language_info": {
   "codemirror_mode": {
    "name": "ipython",
    "version": 3
   },
   "file_extension": ".py",
   "mimetype": "text/x-python",
   "name": "python",
   "nbconvert_exporter": "python",
   "pygments_lexer": "ipython3",
   "version": "3.6.9"
  }
 },
 "nbformat": 4,
 "nbformat_minor": 5
}
